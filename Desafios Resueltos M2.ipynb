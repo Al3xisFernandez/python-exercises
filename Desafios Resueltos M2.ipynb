{
  "cells": [
    {
      "cell_type": "markdown",
      "metadata": {
        "id": "T5zu_mv3hQzr"
      },
      "source": [
        "# Desafios, Módulo 2 - Resolución\n",
        "\n",
        "1: Construir una función que dado un iterable, devuelva un diccionario con las frecuencias de sus elementos"
      ]
    },
    {
      "cell_type": "code",
      "execution_count": 1,
      "metadata": {
        "id": "1sQKu9LShQzv"
      },
      "outputs": [],
      "source": [
        "def frecuencias(iterable):\n",
        "    contador = {}\n",
        "    for item in iterable:\n",
        "        if item in contador:\n",
        "            contador[item] += 1\n",
        "        else:\n",
        "            contador[item] = 1\n",
        "    return contador"
      ]
    },
    {
      "cell_type": "code",
      "execution_count": 2,
      "metadata": {
        "colab": {
          "base_uri": "https://localhost:8080/"
        },
        "id": "PpNosEYbhQzw",
        "outputId": "4e3060bb-4f8d-432a-dff3-9c583b8397fd"
      },
      "outputs": [
        {
          "output_type": "execute_result",
          "data": {
            "text/plain": [
              "{1: 3, 2: 1, 4: 2, 5: 2, 7: 1, 8: 2, 9: 1}"
            ]
          },
          "metadata": {},
          "execution_count": 2
        }
      ],
      "source": [
        "frecuencias([1,5,4,2,1,5,4,7,8,9,8,1])"
      ]
    },
    {
      "cell_type": "markdown",
      "metadata": {
        "id": "i5C5wb0PhQzx"
      },
      "source": [
        "2: Construir una función que se llame suma_acotados. Esta función debe tomar un número arbitrario de argumentos posicionales y un keyword argument llamado cota que por defecto debe tener el valor None. Si el argumento cota es None, debe sumar todos los números, si no debe sumar los números que se encuentren entre –cota y cota. \n",
        "\n"
      ]
    },
    {
      "cell_type": "code",
      "execution_count": null,
      "metadata": {
        "id": "0OunE8PJhQzy"
      },
      "outputs": [],
      "source": [
        "def suma_acotados(*args, cota=None):\n",
        "    if cota == None:\n",
        "        suma = 0\n",
        "        for num in args:\n",
        "            suma += num\n",
        "    else:\n",
        "        suma = 0\n",
        "        for num in args:\n",
        "            if -cota <= num <= cota:\n",
        "                suma += num\n",
        "    return suma"
      ]
    },
    {
      "cell_type": "code",
      "execution_count": null,
      "metadata": {
        "id": "hTIzERM_hQzy"
      },
      "outputs": [],
      "source": [
        "suma_acotados(6,2,3,8,9,7,5,1,3,2,5,4,8)"
      ]
    },
    {
      "cell_type": "code",
      "execution_count": null,
      "metadata": {
        "id": "ojvMAXkEhQzy"
      },
      "outputs": [],
      "source": [
        "suma_acotados(6,2,3,8,9,7,5,1,3,2,5,4,8, cota=5)"
      ]
    },
    {
      "cell_type": "markdown",
      "source": [
        "3. Supongamos que tenemos una lista de tuplas en donde cada una contiene el nombre de un producto y el precio correspondiente (por ejemplo: [(\"Campera\", 3500), (\"Mochila\", 2400), (\"Zapatillas\", 5200), (\"Jean\", 1600)]). Ordenar los productos según su precio de mayor a menor usando sorted, map y funciones lambda"
      ],
      "metadata": {
        "id": "zV60Tfqij4lD"
      }
    },
    {
      "cell_type": "code",
      "source": [
        "productos = [(\"Campera\", 3500), (\"Mochila\", 2400), (\"Zapatillas\", 5200), (\"Jean\", 1600)]"
      ],
      "metadata": {
        "id": "vU8ZSSi7j91q"
      },
      "execution_count": 4,
      "outputs": []
    },
    {
      "cell_type": "code",
      "source": [
        "list(map(lambda x: x[0], sorted(productos, key=lambda x: x[1], reverse=True)))"
      ],
      "metadata": {
        "colab": {
          "base_uri": "https://localhost:8080/"
        },
        "id": "nzz7wUNjkCX5",
        "outputId": "27f738e0-2920-420c-8111-39f124e237d6"
      },
      "execution_count": 5,
      "outputs": [
        {
          "output_type": "execute_result",
          "data": {
            "text/plain": [
              "['Zapatillas', 'Campera', 'Mochila', 'Jean']"
            ]
          },
          "metadata": {},
          "execution_count": 5
        }
      ]
    }
  ],
  "metadata": {
    "kernelspec": {
      "display_name": "Python 3",
      "language": "python",
      "name": "python3"
    },
    "language_info": {
      "codemirror_mode": {
        "name": "ipython",
        "version": 3
      },
      "file_extension": ".py",
      "mimetype": "text/x-python",
      "name": "python",
      "nbconvert_exporter": "python",
      "pygments_lexer": "ipython3",
      "version": "3.8.2"
    },
    "colab": {
      "name": "Laboratorio 1, clase 2 - Resolución.ipynb",
      "provenance": [],
      "collapsed_sections": []
    }
  },
  "nbformat": 4,
  "nbformat_minor": 0
}