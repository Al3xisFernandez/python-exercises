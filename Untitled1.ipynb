{
 "cells": [
  {
   "cell_type": "code",
   "execution_count": 6,
   "id": "28b0805a",
   "metadata": {},
   "outputs": [
    {
     "ename": "ModuleNotFoundError",
     "evalue": "No module named 'DataFrame'",
     "output_type": "error",
     "traceback": [
      "\u001b[1;31m---------------------------------------------------------------------------\u001b[0m",
      "\u001b[1;31mModuleNotFoundError\u001b[0m                       Traceback (most recent call last)",
      "\u001b[1;32m~\\AppData\\Local\\Temp\\ipykernel_6284\\4025268632.py\u001b[0m in \u001b[0;36m<module>\u001b[1;34m\u001b[0m\n\u001b[1;32m----> 1\u001b[1;33m \u001b[1;32mimport\u001b[0m \u001b[0mDataFrame\u001b[0m \u001b[1;32mas\u001b[0m \u001b[0mdf\u001b[0m\u001b[1;33m\u001b[0m\u001b[1;33m\u001b[0m\u001b[0m\n\u001b[0m\u001b[0;32m      2\u001b[0m \u001b[0mdf\u001b[0m\u001b[1;33m.\u001b[0m\u001b[0mindex\u001b[0m \u001b[1;33m=\u001b[0m \u001b[1;33m[\u001b[0m\u001b[1;34m\"fila 1\"\u001b[0m\u001b[1;33m,\u001b[0m \u001b[1;34m\"fila 2\"\u001b[0m\u001b[1;33m,\u001b[0m \u001b[1;34m\"fila 3\"\u001b[0m\u001b[1;33m,\u001b[0m \u001b[1;34m\"fila 4\"\u001b[0m\u001b[1;33m]\u001b[0m\u001b[1;33m\u001b[0m\u001b[1;33m\u001b[0m\u001b[0m\n\u001b[0;32m      3\u001b[0m \u001b[0mdf\u001b[0m\u001b[1;33m.\u001b[0m\u001b[0mcolumns\u001b[0m \u001b[1;33m=\u001b[0m \u001b[1;33m[\u001b[0m\u001b[1;34m\"col 1\"\u001b[0m\u001b[1;33m,\u001b[0m \u001b[1;34m\"col 2\"\u001b[0m\u001b[1;33m,\u001b[0m \u001b[1;34m\"col 3\"\u001b[0m\u001b[1;33m]\u001b[0m\u001b[1;33m\u001b[0m\u001b[1;33m\u001b[0m\u001b[0m\n",
      "\u001b[1;31mModuleNotFoundError\u001b[0m: No module named 'DataFrame'"
     ]
    }
   ],
   "source": [
    "import DataFrame as df\n",
    "df.index = [\"fila 1\", \"fila 2\", \"fila 3\", \"fila 4\"]\n",
    "df.columns = [\"col 1\", \"col 2\", \"col 3\"]"
   ]
  },
  {
   "cell_type": "code",
   "execution_count": 7,
   "id": "6687accf",
   "metadata": {},
   "outputs": [
    {
     "ename": "SyntaxError",
     "evalue": "unmatched '}' (96662072.py, line 2)",
     "output_type": "error",
     "traceback": [
      "\u001b[1;36m  File \u001b[1;32m\"C:\\Users\\alexx\\AppData\\Local\\Temp\\ipykernel_6284\\96662072.py\"\u001b[1;36m, line \u001b[1;32m2\u001b[0m\n\u001b[1;33m    df.columns = [\"col 1\", \"col 2\", \"col 3\"]}\u001b[0m\n\u001b[1;37m                                            ^\u001b[0m\n\u001b[1;31mSyntaxError\u001b[0m\u001b[1;31m:\u001b[0m unmatched '}'\n"
     ]
    }
   ],
   "source": [
    "df.index = [\"fila 1\", \"fila 2\", \"fila 3\", \"fila 4\"]\n",
    "df.columns = [\"col 1\", \"col 2\", \"col 3\"]}"
   ]
  },
  {
   "cell_type": "code",
   "execution_count": 8,
   "id": "1f0910fd",
   "metadata": {},
   "outputs": [
    {
     "ename": "ModuleNotFoundError",
     "evalue": "No module named 'DataFrame'",
     "output_type": "error",
     "traceback": [
      "\u001b[1;31m---------------------------------------------------------------------------\u001b[0m",
      "\u001b[1;31mModuleNotFoundError\u001b[0m                       Traceback (most recent call last)",
      "\u001b[1;32m~\\AppData\\Local\\Temp\\ipykernel_6284\\4025268632.py\u001b[0m in \u001b[0;36m<module>\u001b[1;34m\u001b[0m\n\u001b[1;32m----> 1\u001b[1;33m \u001b[1;32mimport\u001b[0m \u001b[0mDataFrame\u001b[0m \u001b[1;32mas\u001b[0m \u001b[0mdf\u001b[0m\u001b[1;33m\u001b[0m\u001b[1;33m\u001b[0m\u001b[0m\n\u001b[0m\u001b[0;32m      2\u001b[0m \u001b[0mdf\u001b[0m\u001b[1;33m.\u001b[0m\u001b[0mindex\u001b[0m \u001b[1;33m=\u001b[0m \u001b[1;33m[\u001b[0m\u001b[1;34m\"fila 1\"\u001b[0m\u001b[1;33m,\u001b[0m \u001b[1;34m\"fila 2\"\u001b[0m\u001b[1;33m,\u001b[0m \u001b[1;34m\"fila 3\"\u001b[0m\u001b[1;33m,\u001b[0m \u001b[1;34m\"fila 4\"\u001b[0m\u001b[1;33m]\u001b[0m\u001b[1;33m\u001b[0m\u001b[1;33m\u001b[0m\u001b[0m\n\u001b[0;32m      3\u001b[0m \u001b[0mdf\u001b[0m\u001b[1;33m.\u001b[0m\u001b[0mcolumns\u001b[0m \u001b[1;33m=\u001b[0m \u001b[1;33m[\u001b[0m\u001b[1;34m\"col 1\"\u001b[0m\u001b[1;33m,\u001b[0m \u001b[1;34m\"col 2\"\u001b[0m\u001b[1;33m,\u001b[0m \u001b[1;34m\"col 3\"\u001b[0m\u001b[1;33m]\u001b[0m\u001b[1;33m\u001b[0m\u001b[1;33m\u001b[0m\u001b[0m\n",
      "\u001b[1;31mModuleNotFoundError\u001b[0m: No module named 'DataFrame'"
     ]
    }
   ],
   "source": [
    "import DataFrame as df\n",
    "df.index = [\"fila 1\", \"fila 2\", \"fila 3\", \"fila 4\"]\n",
    "df.columns = [\"col 1\", \"col 2\", \"col 3\"]"
   ]
  },
  {
   "cell_type": "code",
   "execution_count": null,
   "id": "b3d1b00e",
   "metadata": {},
   "outputs": [],
   "source": [
    "import DataFrame as df\n",
    "df.index = [\"fila 1\", \"fila 2\", \"fila 3\", \"fila 4\"]\n",
    "df.columns = [\"col 1\", \"col 2\", \"col 3\"]"
   ]
  },
  {
   "cell_type": "code",
   "execution_count": 9,
   "id": "aba1ffcd",
   "metadata": {},
   "outputs": [
    {
     "ename": "NameError",
     "evalue": "name 'df' is not defined",
     "output_type": "error",
     "traceback": [
      "\u001b[1;31m---------------------------------------------------------------------------\u001b[0m",
      "\u001b[1;31mNameError\u001b[0m                                 Traceback (most recent call last)",
      "\u001b[1;32m~\\AppData\\Local\\Temp\\ipykernel_6284\\1396537375.py\u001b[0m in \u001b[0;36m<module>\u001b[1;34m\u001b[0m\n\u001b[1;32m----> 1\u001b[1;33m \u001b[0mdf\u001b[0m\u001b[1;33m\u001b[0m\u001b[1;33m\u001b[0m\u001b[0m\n\u001b[0m",
      "\u001b[1;31mNameError\u001b[0m: name 'df' is not defined"
     ]
    }
   ],
   "source": [
    "df"
   ]
  },
  {
   "cell_type": "code",
   "execution_count": null,
   "id": "ec8ff02e",
   "metadata": {},
   "outputs": [],
   "source": []
  }
 ],
 "metadata": {
  "kernelspec": {
   "display_name": "Python 3 (ipykernel)",
   "language": "python",
   "name": "python3"
  },
  "language_info": {
   "codemirror_mode": {
    "name": "ipython",
    "version": 3
   },
   "file_extension": ".py",
   "mimetype": "text/x-python",
   "name": "python",
   "nbconvert_exporter": "python",
   "pygments_lexer": "ipython3",
   "version": "3.9.13"
  }
 },
 "nbformat": 4,
 "nbformat_minor": 5
}
