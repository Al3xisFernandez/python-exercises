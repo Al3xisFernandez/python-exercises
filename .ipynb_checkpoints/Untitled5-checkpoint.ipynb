{
 "cells": [
  {
   "cell_type": "code",
   "execution_count": 2,
   "id": "ab11a6db",
   "metadata": {},
   "outputs": [
    {
     "name": "stdout",
     "output_type": "stream",
     "text": [
      "30520\n",
      "720820623\n",
      "436815984\n"
     ]
    }
   ],
   "source": [
    "\n",
    "import numpy as np\n",
    "\n",
    "def multiply_matrix(A,B,mod):\n",
    "  global C\n",
    "  if  A.shape[1] == B.shape[0]:\n",
    "    C = np.zeros((A.shape[0],B.shape[1]),dtype = 'int64')\n",
    "    for row in range(A.shape[0]): \n",
    "        for col in range(B.shape[1]):\n",
    "            for elt in range(B.shape[0]):\n",
    "              C[row, col] = (C[row, col] + A[row, elt] * B[elt, col])%mod\n",
    "    return C\n",
    "  else:\n",
    "    return \"Sorry, cannot multiply A and B.\"\n",
    "\n",
    "def exponentiation(base, exp, N):\n",
    "    result = np.identity(base.shape[0]);\n",
    "    while exp > 0:\n",
    "        # If power is odd\n",
    "        if exp % 2 == 1:\n",
    "            result = multiply_matrix(result,  base, N);\n",
    "\n",
    "        # Divide the power by 2\n",
    "        exp = exp // 2\n",
    "        # Multiply base to itself\n",
    "        base = multiply_matrix(base, base, N);\n",
    "    return result;\n",
    "\n",
    "\n",
    "def puzzle(i):\n",
    "    N = 1000000000;\n",
    "    A = np.asmatrix(np.array([[1,2,3,4],\n",
    "        [1,0,0,0],\n",
    "        [0,1,0,0],\n",
    "        [0,0,1,0]]));\n",
    "    B = np.asmatrix(np.array([[1], [1], [1], [1]]));\n",
    "    \n",
    "    C = multiply_matrix(exponentiation(A,i,N), B, N);\n",
    "    return C[0][0];\n",
    "    \n",
    "print(puzzle(10))\n",
    "print(puzzle(100))\n",
    "print(puzzle(pow(2022,100)))"
   ]
  }
 ],
 "metadata": {
  "kernelspec": {
   "display_name": "Python 3 (ipykernel)",
   "language": "python",
   "name": "python3"
  },
  "language_info": {
   "codemirror_mode": {
    "name": "ipython",
    "version": 3
   },
   "file_extension": ".py",
   "mimetype": "text/x-python",
   "name": "python",
   "nbconvert_exporter": "python",
   "pygments_lexer": "ipython3",
   "version": "3.9.13"
  }
 },
 "nbformat": 4,
 "nbformat_minor": 5
}
