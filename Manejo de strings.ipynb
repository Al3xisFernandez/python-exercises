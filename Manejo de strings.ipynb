{
 "cells": [
  {
   "cell_type": "code",
   "execution_count": 2,
   "id": "fa1c272d",
   "metadata": {},
   "outputs": [],
   "source": [
    "import pandas as pd\n",
    "data= pd.read_csv(\"titanic.csv\")"
   ]
  },
  {
   "cell_type": "code",
   "execution_count": 3,
   "id": "937c4086",
   "metadata": {},
   "outputs": [
    {
     "data": {
      "text/plain": [
       "0                                braund, mr. owen harris\n",
       "1      cumings, mrs. john bradley (florence briggs th...\n",
       "2                                 heikkinen, miss. laina\n",
       "3           futrelle, mrs. jacques heath (lily may peel)\n",
       "4                               allen, mr. william henry\n",
       "                             ...                        \n",
       "886                                montvila, rev. juozas\n",
       "887                         graham, miss. margaret edith\n",
       "888             johnston, miss. catherine helen \"carrie\"\n",
       "889                                behr, mr. karl howell\n",
       "890                                  dooley, mr. patrick\n",
       "Name: Name, Length: 891, dtype: object"
      ]
     },
     "execution_count": 3,
     "metadata": {},
     "output_type": "execute_result"
    }
   ],
   "source": [
    "data[\"Name\"].str.lower()"
   ]
  },
  {
   "cell_type": "code",
   "execution_count": 4,
   "id": "d3bf0778",
   "metadata": {},
   "outputs": [
    {
     "data": {
      "text/plain": [
       "0                                BRAUND, MR. OWEN HARRIS\n",
       "1      CUMINGS, MRS. JOHN BRADLEY (FLORENCE BRIGGS TH...\n",
       "2                                 HEIKKINEN, MISS. LAINA\n",
       "3           FUTRELLE, MRS. JACQUES HEATH (LILY MAY PEEL)\n",
       "4                               ALLEN, MR. WILLIAM HENRY\n",
       "                             ...                        \n",
       "886                                MONTVILA, REV. JUOZAS\n",
       "887                         GRAHAM, MISS. MARGARET EDITH\n",
       "888             JOHNSTON, MISS. CATHERINE HELEN \"CARRIE\"\n",
       "889                                BEHR, MR. KARL HOWELL\n",
       "890                                  DOOLEY, MR. PATRICK\n",
       "Name: Name, Length: 891, dtype: object"
      ]
     },
     "execution_count": 4,
     "metadata": {},
     "output_type": "execute_result"
    }
   ],
   "source": [
    "data[\"Name\"].str.upper()"
   ]
  },
  {
   "cell_type": "code",
   "execution_count": 5,
   "id": "6fa6720b",
   "metadata": {},
   "outputs": [
    {
     "data": {
      "text/plain": [
       "0                           [Braund,, Mr., Owen, Harris]\n",
       "1      [Cumings,, Mrs., John, Bradley, (Florence, Bri...\n",
       "2                             [Heikkinen,, Miss., Laina]\n",
       "3      [Futrelle,, Mrs., Jacques, Heath, (Lily, May, ...\n",
       "4                          [Allen,, Mr., William, Henry]\n",
       "                             ...                        \n",
       "886                            [Montvila,, Rev., Juozas]\n",
       "887                    [Graham,, Miss., Margaret, Edith]\n",
       "888       [Johnston,, Miss., Catherine, Helen, \"Carrie\"]\n",
       "889                           [Behr,, Mr., Karl, Howell]\n",
       "890                              [Dooley,, Mr., Patrick]\n",
       "Name: Name, Length: 891, dtype: object"
      ]
     },
     "execution_count": 5,
     "metadata": {},
     "output_type": "execute_result"
    }
   ],
   "source": [
    "data[\"Name\"].str.split()"
   ]
  },
  {
   "cell_type": "code",
   "execution_count": 6,
   "id": "a84030cc",
   "metadata": {},
   "outputs": [
    {
     "data": {
      "text/plain": [
       "0      1\n",
       "1      1\n",
       "2      0\n",
       "3      1\n",
       "4      1\n",
       "      ..\n",
       "886    0\n",
       "887    0\n",
       "888    0\n",
       "889    1\n",
       "890    1\n",
       "Name: Name, Length: 891, dtype: int64"
      ]
     },
     "execution_count": 6,
     "metadata": {},
     "output_type": "execute_result"
    }
   ],
   "source": [
    "data[\"Name\"].str.count(\"Mr.\")"
   ]
  },
  {
   "cell_type": "code",
   "execution_count": 7,
   "id": "47de2641",
   "metadata": {},
   "outputs": [
    {
     "data": {
      "text/plain": [
       "0       True\n",
       "1       True\n",
       "2      False\n",
       "3       True\n",
       "4       True\n",
       "       ...  \n",
       "886    False\n",
       "887    False\n",
       "888    False\n",
       "889     True\n",
       "890     True\n",
       "Name: Name, Length: 891, dtype: bool"
      ]
     },
     "execution_count": 7,
     "metadata": {},
     "output_type": "execute_result"
    }
   ],
   "source": [
    "data[\"Name\"].str.contains(\"Mr.\")"
   ]
  },
  {
   "cell_type": "code",
   "execution_count": 9,
   "id": "d2eb950f",
   "metadata": {},
   "outputs": [
    {
     "data": {
      "text/plain": [
       "9"
      ]
     },
     "execution_count": 9,
     "metadata": {},
     "output_type": "execute_result"
    }
   ],
   "source": [
    "data[\"Name\"].str.startswith(\"Andersson\").sum()"
   ]
  },
  {
   "cell_type": "code",
   "execution_count": 10,
   "id": "2b196b9f",
   "metadata": {},
   "outputs": [
    {
     "data": {
      "text/plain": [
       "False"
      ]
     },
     "execution_count": 10,
     "metadata": {},
     "output_type": "execute_result"
    }
   ],
   "source": [
    "data[\"Name\"].str.startswith(\"Pérez\").any()"
   ]
  },
  {
   "cell_type": "code",
   "execution_count": 12,
   "id": "aca125d6",
   "metadata": {},
   "outputs": [
    {
     "data": {
      "text/plain": [
       "0      23\n",
       "1      51\n",
       "2      22\n",
       "3      44\n",
       "4      24\n",
       "       ..\n",
       "886    21\n",
       "887    28\n",
       "888    40\n",
       "889    21\n",
       "890    19\n",
       "Name: Name, Length: 891, dtype: int64"
      ]
     },
     "execution_count": 12,
     "metadata": {},
     "output_type": "execute_result"
    }
   ],
   "source": [
    "data[\"Name\"].str.len()"
   ]
  },
  {
   "cell_type": "code",
   "execution_count": 13,
   "id": "8df5b817",
   "metadata": {},
   "outputs": [],
   "source": [
    "s = pd.Series([\"abc\", \"ABC\", \"007\", \"abc007\"])"
   ]
  },
  {
   "cell_type": "code",
   "execution_count": 14,
   "id": "855448da",
   "metadata": {},
   "outputs": [
    {
     "data": {
      "text/plain": [
       "0     True\n",
       "1     True\n",
       "2    False\n",
       "3    False\n",
       "dtype: bool"
      ]
     },
     "execution_count": 14,
     "metadata": {},
     "output_type": "execute_result"
    }
   ],
   "source": [
    "s.str.isalpha()"
   ]
  },
  {
   "cell_type": "code",
   "execution_count": 15,
   "id": "fb7d43da",
   "metadata": {},
   "outputs": [
    {
     "data": {
      "text/plain": [
       "0     True\n",
       "1    False\n",
       "2    False\n",
       "3     True\n",
       "dtype: bool"
      ]
     },
     "execution_count": 15,
     "metadata": {},
     "output_type": "execute_result"
    }
   ],
   "source": [
    "s.str.islower()"
   ]
  },
  {
   "cell_type": "code",
   "execution_count": 16,
   "id": "b2c5960d",
   "metadata": {},
   "outputs": [
    {
     "data": {
      "text/plain": [
       "0    False\n",
       "1    False\n",
       "2     True\n",
       "3    False\n",
       "dtype: bool"
      ]
     },
     "execution_count": 16,
     "metadata": {},
     "output_type": "execute_result"
    }
   ],
   "source": [
    "s.str.isnumeric()"
   ]
  },
  {
   "cell_type": "code",
   "execution_count": 18,
   "id": "eb0bc90f",
   "metadata": {},
   "outputs": [
    {
     "data": {
      "text/plain": [
       "0      Bra\n",
       "1      Cum\n",
       "2      Hei\n",
       "3      Fut\n",
       "4      All\n",
       "      ... \n",
       "886    Mon\n",
       "887    Gra\n",
       "888    Joh\n",
       "889    Beh\n",
       "890    Doo\n",
       "Name: Name, Length: 891, dtype: object"
      ]
     },
     "execution_count": 18,
     "metadata": {},
     "output_type": "execute_result"
    }
   ],
   "source": [
    "data[\"Name\"].str[0:3]"
   ]
  },
  {
   "cell_type": "code",
   "execution_count": 19,
   "id": "c04fd96e",
   "metadata": {},
   "outputs": [
    {
     "data": {
      "text/plain": [
       "0      NaN\n",
       "1        g\n",
       "2      NaN\n",
       "3        e\n",
       "4      NaN\n",
       "      ... \n",
       "886    NaN\n",
       "887    NaN\n",
       "888    NaN\n",
       "889    NaN\n",
       "890    NaN\n",
       "Name: Name, Length: 891, dtype: object"
      ]
     },
     "execution_count": 19,
     "metadata": {},
     "output_type": "execute_result"
    }
   ],
   "source": [
    "data[\"Name\"].str[40]"
   ]
  },
  {
   "cell_type": "code",
   "execution_count": null,
   "id": "6db50ae4",
   "metadata": {},
   "outputs": [],
   "source": []
  }
 ],
 "metadata": {
  "kernelspec": {
   "display_name": "Python 3 (ipykernel)",
   "language": "python",
   "name": "python3"
  },
  "language_info": {
   "codemirror_mode": {
    "name": "ipython",
    "version": 3
   },
   "file_extension": ".py",
   "mimetype": "text/x-python",
   "name": "python",
   "nbconvert_exporter": "python",
   "pygments_lexer": "ipython3",
   "version": "3.9.13"
  }
 },
 "nbformat": 4,
 "nbformat_minor": 5
}
