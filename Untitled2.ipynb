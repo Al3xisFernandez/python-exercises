{
 "cells": [
  {
   "cell_type": "code",
   "execution_count": 14,
   "id": "9e6f55ef",
   "metadata": {},
   "outputs": [
    {
     "data": {
      "text/plain": [
       "0    10\n",
       "1     2\n",
       "2     5\n",
       "dtype: int64"
      ]
     },
     "execution_count": 14,
     "metadata": {},
     "output_type": "execute_result"
    }
   ],
   "source": [
    "\n",
    "import numpy as np\n",
    "import pandas as pd\n",
    "\n",
    "pd.Series([10,2,5])"
   ]
  },
  {
   "cell_type": "code",
   "execution_count": 17,
   "id": "c141571b",
   "metadata": {},
   "outputs": [
    {
     "data": {
      "text/plain": [
       "0    5\n",
       "1    4\n",
       "2    3\n",
       "dtype: int32"
      ]
     },
     "execution_count": 17,
     "metadata": {},
     "output_type": "execute_result"
    }
   ],
   "source": [
    "vector = np.array([5,4,3])\n",
    "pd.Series(vector)"
   ]
  },
  {
   "cell_type": "code",
   "execution_count": 11,
   "id": "7c7f2a6d",
   "metadata": {},
   "outputs": [
    {
     "name": "stdout",
     "output_type": "stream",
     "text": [
      "   0  1\n",
      "0  1  a\n",
      "1  2  b\n",
      "2  3  c\n"
     ]
    }
   ],
   "source": [
    "import pandas as pd\n",
    "\n",
    "data = [[1, 'a'], [2, 'b'], [3, 'c']]\n",
    "df = pd.DataFrame(data)\n",
    "print(df)\n"
   ]
  },
  {
   "cell_type": "code",
   "execution_count": 12,
   "id": "a3e35f7f",
   "metadata": {},
   "outputs": [
    {
     "name": "stdout",
     "output_type": "stream",
     "text": [
      "   0  1\n",
      "0  1  a\n",
      "1  2  b\n",
      "2  3  c\n"
     ]
    }
   ],
   "source": [
    "import numpy as np\n",
    "import pandas as pd\n",
    "\n",
    "data = np.array([[1, 'a'], [2, 'b'], [3, 'c']])\n",
    "df = pd.DataFrame(data)\n",
    "print(df)\n"
   ]
  },
  {
   "cell_type": "code",
   "execution_count": 13,
   "id": "eb07c392",
   "metadata": {},
   "outputs": [
    {
     "name": "stdout",
     "output_type": "stream",
     "text": [
      "   num letter\n",
      "0    1      a\n",
      "1    2      b\n",
      "2    3      c\n"
     ]
    }
   ],
   "source": [
    "import pandas as pd\n",
    "\n",
    "data = [[1, 'a'], [2, 'b'], [3, 'c']]\n",
    "columns = ['num', 'letter']\n",
    "df = pd.DataFrame(data, columns=columns)\n",
    "print(df)\n"
   ]
  },
  {
   "cell_type": "code",
   "execution_count": 18,
   "id": "03dec564",
   "metadata": {},
   "outputs": [
    {
     "name": "stdout",
     "output_type": "stream",
     "text": [
      "   PassengerId  Survived  Pclass  \\\n",
      "0            1         0       3   \n",
      "1            2         1       1   \n",
      "2            3         1       3   \n",
      "3            4         1       1   \n",
      "4            5         0       3   \n",
      "\n",
      "                                                Name     Sex   Age  SibSp  \\\n",
      "0                            Braund, Mr. Owen Harris    male  22.0      1   \n",
      "1  Cumings, Mrs. John Bradley (Florence Briggs Th...  female  38.0      1   \n",
      "2                             Heikkinen, Miss. Laina  female  26.0      0   \n",
      "3       Futrelle, Mrs. Jacques Heath (Lily May Peel)  female  35.0      1   \n",
      "4                           Allen, Mr. William Henry    male  35.0      0   \n",
      "\n",
      "   Parch            Ticket     Fare Cabin Embarked  \n",
      "0      0         A/5 21171   7.2500   NaN        S  \n",
      "1      0          PC 17599  71.2833   C85        C  \n",
      "2      0  STON/O2. 3101282   7.9250   NaN        S  \n",
      "3      0            113803  53.1000  C123        S  \n",
      "4      0            373450   8.0500   NaN        S  \n"
     ]
    }
   ],
   "source": [
    "import pandas as pd\n",
    "\n",
    "df = pd.read_csv('titanic.csv')\n",
    "print(df.head())\n"
   ]
  },
  {
   "cell_type": "code",
   "execution_count": 19,
   "id": "a9432653",
   "metadata": {},
   "outputs": [
    {
     "name": "stdout",
     "output_type": "stream",
     "text": [
      "     Survived  Pclass   Age     Sex\n",
      "0           0       3  22.0    male\n",
      "1           1       1  38.0  female\n",
      "2           1       3  26.0  female\n",
      "3           1       1  35.0  female\n",
      "4           0       3  35.0    male\n",
      "..        ...     ...   ...     ...\n",
      "886         0       2  27.0    male\n",
      "887         1       1  19.0  female\n",
      "888         0       3   NaN  female\n",
      "889         1       1  26.0    male\n",
      "890         0       3  32.0    male\n",
      "\n",
      "[891 rows x 4 columns]\n"
     ]
    }
   ],
   "source": [
    "selected_columns = df[[\"Survived\", \"Pclass\", \"Age\", \"Sex\"]]\n",
    "print(selected_columns)\n"
   ]
  },
  {
   "cell_type": "code",
   "execution_count": 20,
   "id": "fa4c8562",
   "metadata": {},
   "outputs": [
    {
     "name": "stdout",
     "output_type": "stream",
     "text": [
      "                                 Name   Age\n",
      "200    Vande Walle, Mr. Nestor Cyriel  28.0\n",
      "201               Sage, Mr. Frederick   NaN\n",
      "202        Johanson, Mr. Jakob Alfred  34.0\n",
      "203              Youseff, Mr. Gerious  45.5\n",
      "204          Cohen, Mr. Gurshon \"Gus\"  18.0\n",
      "..                                ...   ...\n",
      "396               Olsson, Miss. Elina  31.0\n",
      "397           McKane, Mr. Peter David  46.0\n",
      "398                  Pain, Dr. Alfred  23.0\n",
      "399  Trout, Mrs. William H (Jessie L)  28.0\n",
      "400                Niskanen, Mr. Juha  39.0\n",
      "\n",
      "[201 rows x 2 columns]\n"
     ]
    }
   ],
   "source": [
    "selected_rows = df.loc[200:400, [\"Name\", \"Age\"]]\n",
    "print(selected_rows)\n"
   ]
  },
  {
   "cell_type": "code",
   "execution_count": 21,
   "id": "6e22d5d4",
   "metadata": {},
   "outputs": [
    {
     "name": "stdout",
     "output_type": "stream",
     "text": [
      "   ID  Survived  Pclass                                               Name  \\\n",
      "0   1         0       3                            Braund, Mr. Owen Harris   \n",
      "1   2         1       1  Cumings, Mrs. John Bradley (Florence Briggs Th...   \n",
      "2   3         1       3                             Heikkinen, Miss. Laina   \n",
      "3   4         1       1       Futrelle, Mrs. Jacques Heath (Lily May Peel)   \n",
      "4   5         0       3                           Allen, Mr. William Henry   \n",
      "\n",
      "      Sex   Age  SibSp  Parch            Ticket     Fare Cabin Embarked  \n",
      "0    male  22.0      1      0         A/5 21171   7.2500   NaN        S  \n",
      "1  female  38.0      1      0          PC 17599  71.2833   C85        C  \n",
      "2  female  26.0      0      0  STON/O2. 3101282   7.9250   NaN        S  \n",
      "3  female  35.0      1      0            113803  53.1000  C123        S  \n",
      "4    male  35.0      0      0            373450   8.0500   NaN        S  \n"
     ]
    }
   ],
   "source": [
    "df.rename(columns={\"PassengerId\": \"ID\"}, inplace=True)\n",
    "print(df.head())\n"
   ]
  },
  {
   "cell_type": "code",
   "execution_count": 22,
   "id": "141db867",
   "metadata": {},
   "outputs": [
    {
     "name": "stdout",
     "output_type": "stream",
     "text": [
      "      ID  Survived  Pclass                                               Name  \\\n",
      "1      2         1       1  Cumings, Mrs. John Bradley (Florence Briggs Th...   \n",
      "3      4         1       1       Futrelle, Mrs. Jacques Heath (Lily May Peel)   \n",
      "11    12         1       1                           Bonnell, Miss. Elizabeth   \n",
      "31    32         1       1     Spencer, Mrs. William Augustus (Marie Eugenie)   \n",
      "52    53         1       1           Harper, Mrs. Henry Sleeper (Myna Haxtun)   \n",
      "..   ...       ...     ...                                                ...   \n",
      "856  857         1       1         Wick, Mrs. George Dennick (Mary Hitchcock)   \n",
      "862  863         1       1  Swift, Mrs. Frederick Joel (Margaret Welles Ba...   \n",
      "871  872         1       1   Beckwith, Mrs. Richard Leonard (Sallie Monypeny)   \n",
      "879  880         1       1      Potter, Mrs. Thomas Jr (Lily Alexenia Wilson)   \n",
      "887  888         1       1                       Graham, Miss. Margaret Edith   \n",
      "\n",
      "        Sex   Age  SibSp  Parch    Ticket      Fare Cabin Embarked  \n",
      "1    female  38.0      1      0  PC 17599   71.2833   C85        C  \n",
      "3    female  35.0      1      0    113803   53.1000  C123        S  \n",
      "11   female  58.0      0      0    113783   26.5500  C103        S  \n",
      "31   female   NaN      1      0  PC 17569  146.5208   B78        C  \n",
      "52   female  49.0      1      0  PC 17572   76.7292   D33        C  \n",
      "..      ...   ...    ...    ...       ...       ...   ...      ...  \n",
      "856  female  45.0      1      1     36928  164.8667   NaN        S  \n",
      "862  female  48.0      0      0     17466   25.9292   D17        S  \n",
      "871  female  47.0      1      1     11751   52.5542   D35        S  \n",
      "879  female  56.0      0      1     11767   83.1583   C50        C  \n",
      "887  female  19.0      0      0    112053   30.0000   B42        S  \n",
      "\n",
      "[94 rows x 12 columns]\n"
     ]
    }
   ],
   "source": [
    "selected_data = df.loc[(df[\"Sex\"] == \"female\") & (df[\"Pclass\"] == 1)]\n",
    "print(selected_data)\n"
   ]
  },
  {
   "cell_type": "code",
   "execution_count": 23,
   "id": "7db9c1f9",
   "metadata": {},
   "outputs": [
    {
     "name": "stdout",
     "output_type": "stream",
     "text": [
      "      ID  Survived  Pclass                             Name   Sex    Age  \\\n",
      "78    79         1       2    Caldwell, Master. Alden Gates  male   0.83   \n",
      "183  184         1       2        Becker, Master. Richard F  male   1.00   \n",
      "193  194         1       2       Navratil, Master. Michel M  male   3.00   \n",
      "340  341         1       2   Navratil, Master. Edmond Roger  male   2.00   \n",
      "407  408         1       2   Richards, Master. William Rowe  male   3.00   \n",
      "549  550         1       2   Davies, Master. John Morgan Jr  male   8.00   \n",
      "755  756         1       2        Hamalainen, Master. Viljo  male   0.67   \n",
      "791  792         0       2              Gaskell, Mr. Alfred  male  16.00   \n",
      "827  828         1       2            Mallet, Master. Andre  male   1.00   \n",
      "831  832         1       2  Richards, Master. George Sibley  male   0.83   \n",
      "841  842         0       2         Mudd, Mr. Thomas Charles  male  16.00   \n",
      "\n",
      "     SibSp  Parch           Ticket     Fare Cabin Embarked  \n",
      "78       0      2           248738  29.0000   NaN        S  \n",
      "183      2      1           230136  39.0000    F4        S  \n",
      "193      1      1           230080  26.0000    F2        S  \n",
      "340      1      1           230080  26.0000    F2        S  \n",
      "407      1      1            29106  18.7500   NaN        S  \n",
      "549      1      1       C.A. 33112  36.7500   NaN        S  \n",
      "755      1      1           250649  14.5000   NaN        S  \n",
      "791      0      0           239865  26.0000   NaN        S  \n",
      "827      0      2  S.C./PARIS 2079  37.0042   NaN        C  \n",
      "831      1      1            29106  18.7500   NaN        S  \n",
      "841      0      0      S.O./P.P. 3  10.5000   NaN        S  \n"
     ]
    }
   ],
   "source": [
    "selected_data = df.loc[(df[\"Sex\"] == \"male\") & (df[\"Pclass\"] == 2) & (df[\"Age\"] < 18)]\n",
    "print(selected_data)\n"
   ]
  },
  {
   "cell_type": "code",
   "execution_count": 24,
   "id": "2154db4d",
   "metadata": {},
   "outputs": [
    {
     "name": "stdout",
     "output_type": "stream",
     "text": [
      "Sex\n",
      "female    27.915709\n",
      "male      30.726645\n",
      "Name: Age, dtype: float64\n"
     ]
    }
   ],
   "source": [
    "mean_age_by_sex = df.groupby(\"Sex\")[\"Age\"].mean()\n",
    "print(mean_age_by_sex)\n"
   ]
  },
  {
   "cell_type": "code",
   "execution_count": 25,
   "id": "e69a9445",
   "metadata": {},
   "outputs": [
    {
     "name": "stdout",
     "output_type": "stream",
     "text": [
      "Sex\n",
      "female    233\n",
      "male      109\n",
      "Name: Survived, dtype: int64\n"
     ]
    }
   ],
   "source": [
    "survivors_by_sex = df.groupby(\"Sex\")[\"Survived\"].sum()\n",
    "print(survivors_by_sex)\n"
   ]
  },
  {
   "cell_type": "code",
   "execution_count": null,
   "id": "91699129",
   "metadata": {},
   "outputs": [],
   "source": []
  }
 ],
 "metadata": {
  "kernelspec": {
   "display_name": "Python 3 (ipykernel)",
   "language": "python",
   "name": "python3"
  },
  "language_info": {
   "codemirror_mode": {
    "name": "ipython",
    "version": 3
   },
   "file_extension": ".py",
   "mimetype": "text/x-python",
   "name": "python",
   "nbconvert_exporter": "python",
   "pygments_lexer": "ipython3",
   "version": "3.9.13"
  }
 },
 "nbformat": 4,
 "nbformat_minor": 5
}
